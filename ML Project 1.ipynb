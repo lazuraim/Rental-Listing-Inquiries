{
 "cells": [
  {
   "cell_type": "markdown",
   "id": "ae18fb88",
   "metadata": {},
   "source": [
    "# **Introduction**"
   ]
  },
  {
   "cell_type": "markdown",
   "id": "045c90fc",
   "metadata": {},
   "source": [
    "**i.** 5 examples of ML methods application in life. What is the benefit of using machine learning methods in each of these examples?"
   ]
  },
  {
   "cell_type": "markdown",
   "id": "22779c4e",
   "metadata": {},
   "source": [
    "| method | benefit |\n",
    "| :- | :- |\n",
    "| recommend book that a person might like based on his/her preferences | unobvious suggestions |\n",
    "| predict amount of perishable goods that a shop should prepare | prevent spoiling of goods  |\n",
    "| smart alarm clock | define the best time to wake up and feel good |\n",
    "| target association | more efficient for bussines and more interesting for a customer |\n",
    "| advisor system for doctors | suggest possible diagnosis |"
   ]
  },
  {
   "cell_type": "markdown",
   "id": "8eb4bc8b",
   "metadata": {},
   "source": [
    "**ii.** Use classification of tasks in the introduction to decide what class you can assign for the tasks from the table above and for the 5 examples you provided."
   ]
  },
  {
   "cell_type": "markdown",
   "id": "5701b2ac",
   "metadata": {},
   "source": [
    "| task | classification |\n",
    "| :- | :- |\n",
    "| recommend book that a person might like based on his/her preferences | association |\n",
    "| predict amount of perishable goods that a shop should prepare | regression |\n",
    "| smart alarm clock | regression |\n",
    "| target advertisment | association |\n",
    "| advisor system for doctors | association |\n",
    "| 1. Predict house price | regression |\n",
    "| 2. Predict whether a client returns a loan | binary classification |\n",
    "| 3. Predict when a patient needs to take medicine | regression |\n",
    "| 4. Choose what medicine out of available a patient should take | classification |\n",
    "| 5. Choose segment of clients for a promo communication | clustering |\n",
    "| 6. Recognition of defective products on the production line (based on photo scans) | classification |\n",
    "| 7. Decide how to place products on a shelf in a store | association |\n",
    "| 8. Search sites for input text query | association |\n",
    "| 9. Split customers of a store into segments to understand differences of their behavior | clustering |\n",
    "| 10. Detect anomaly in site traffic | generalization |\n"
   ]
  },
  {
   "cell_type": "markdown",
   "id": "591be124",
   "metadata": {},
   "source": [
    "**iii.** What is the difference between multiclass and multilabel?"
   ]
  },
  {
   "cell_type": "markdown",
   "id": "c85751f6",
   "metadata": {},
   "source": [
    "**Multiclass** implies that input may relate only to one class, which was chosen among several classes. For example, recognize an animal on the picture.\n",
    "\n",
    "**Multilabel** indicates that input may refer to several labels at the same time, they are not contradictory. For instance, scientific article might be associated with Maths and Computer Science."
   ]
  },
  {
   "cell_type": "markdown",
   "id": "4e3d6f5d",
   "metadata": {},
   "source": [
    "**iv.** Is an example case with housing prices from theory a classification of a regression problem? Is it possible to reduce the regression problem to classification?"
   ]
  },
  {
   "cell_type": "markdown",
   "id": "52e2881c",
   "metadata": {},
   "source": [
    "Housing prices is a classification problem, but it is possible to reduce it to classification if we try to identify the range of the price among several ranges (which might be named, for example, 'cheap', 'expensive', 'economical')."
   ]
  },
  {
   "cell_type": "markdown",
   "id": "3bcf8d37",
   "metadata": {},
   "source": [
    "# **Intro data analysis**"
   ]
  },
  {
   "cell_type": "markdown",
   "id": "4011aded",
   "metadata": {
    "ExecuteTime": {
     "end_time": "2024-03-24T13:57:55.967556Z",
     "start_time": "2024-03-24T13:57:55.961544Z"
    }
   },
   "source": [
    "**i.** Import libraries"
   ]
  },
  {
   "cell_type": "code",
   "execution_count": 366,
   "id": "7a6c49fb",
   "metadata": {
    "ExecuteTime": {
     "end_time": "2024-03-24T13:55:33.496276Z",
     "start_time": "2024-03-24T13:55:33.483572Z"
    }
   },
   "outputs": [],
   "source": [
    "import pandas as pd\n",
    "import numpy as np\n",
    "from sklearn import preprocessing, linear_model, metrics, tree, model_selection\n",
    "import scipy\n",
    "import statsmodels\n",
    "import matplotlib.pyplot as plt\n",
    "import seaborn as sb"
   ]
  },
  {
   "cell_type": "markdown",
   "id": "cdc890fd",
   "metadata": {},
   "source": [
    "**ii.** Load data from kaggle with pandas."
   ]
  },
  {
   "cell_type": "code",
   "execution_count": 367,
   "id": "794a67a8",
   "metadata": {},
   "outputs": [
    {
     "name": "stdout",
     "output_type": "stream",
     "text": [
      "Index(['bathrooms', 'bedrooms', 'building_id', 'created', 'description',\n",
      "       'display_address', 'features', 'latitude', 'listing_id', 'longitude',\n",
      "       'manager_id', 'photos', 'price', 'street_address', 'interest_level'],\n",
      "      dtype='object')\n"
     ]
    }
   ],
   "source": [
    "df = pd.read_json('data/train.json.zip', compression='zip')\n",
    "print(df.columns)"
   ]
  },
  {
   "cell_type": "markdown",
   "id": "c333ebd1",
   "metadata": {},
   "source": [
    "**iii.** What is the size of your data?"
   ]
  },
  {
   "cell_type": "code",
   "execution_count": 368,
   "id": "b61a75dc",
   "metadata": {},
   "outputs": [
    {
     "data": {
      "text/plain": [
       "740280"
      ]
     },
     "execution_count": 368,
     "metadata": {},
     "output_type": "execute_result"
    }
   ],
   "source": [
    "df.size # rows * colums"
   ]
  },
  {
   "cell_type": "code",
   "execution_count": 369,
   "id": "84e1f210-f08d-4bd4-8011-57f7d23d4993",
   "metadata": {},
   "outputs": [
    {
     "name": "stdout",
     "output_type": "stream",
     "text": [
      "49352 15\n"
     ]
    }
   ],
   "source": [
    "rows = len(df.index)\n",
    "columns = len(df.columns)\n",
    "print(rows, columns)"
   ]
  },
  {
   "cell_type": "code",
   "execution_count": 370,
   "id": "1ca98723-434d-4cb6-b9e9-76b4e5f361f7",
   "metadata": {},
   "outputs": [
    {
     "data": {
      "text/plain": [
       "(49352, 15)"
      ]
     },
     "execution_count": 370,
     "metadata": {},
     "output_type": "execute_result"
    }
   ],
   "source": [
    "df.shape # tuple representing the dimensionality of the DataFrame"
   ]
  },
  {
   "cell_type": "markdown",
   "id": "fa87974c",
   "metadata": {
    "ExecuteTime": {
     "end_time": "2024-03-24T13:58:46.014669Z",
     "start_time": "2024-03-24T13:58:46.003093Z"
    }
   },
   "source": [
    "**iv.** Print the list of columns. Which column is a target?"
   ]
  },
  {
   "cell_type": "code",
   "execution_count": 371,
   "id": "6698ec3e",
   "metadata": {},
   "outputs": [
    {
     "data": {
      "text/plain": [
       "['bathrooms',\n",
       " 'bedrooms',\n",
       " 'building_id',\n",
       " 'created',\n",
       " 'description',\n",
       " 'display_address',\n",
       " 'features',\n",
       " 'latitude',\n",
       " 'listing_id',\n",
       " 'longitude',\n",
       " 'manager_id',\n",
       " 'photos',\n",
       " 'price',\n",
       " 'street_address',\n",
       " 'interest_level']"
      ]
     },
     "execution_count": 371,
     "metadata": {},
     "output_type": "execute_result"
    }
   ],
   "source": [
    "list(df.columns)"
   ]
  },
  {
   "cell_type": "markdown",
   "id": "f269d424-ad1f-4ea3-8228-c0492fb7b8a3",
   "metadata": {},
   "source": [
    "**'price'** is the target"
   ]
  },
  {
   "cell_type": "markdown",
   "id": "a2965aa4",
   "metadata": {},
   "source": [
    "**v.** Make a fast analysis of the data: use methods info(), describe(), corr(). Explain the results of outputs. Are there any empty columns?"
   ]
  },
  {
   "cell_type": "code",
   "execution_count": 372,
   "id": "89c21188",
   "metadata": {},
   "outputs": [
    {
     "name": "stdout",
     "output_type": "stream",
     "text": [
      "<class 'pandas.core.frame.DataFrame'>\n",
      "Index: 49352 entries, 4 to 124009\n",
      "Data columns (total 15 columns):\n",
      " #   Column           Non-Null Count  Dtype  \n",
      "---  ------           --------------  -----  \n",
      " 0   bathrooms        49352 non-null  float64\n",
      " 1   bedrooms         49352 non-null  int64  \n",
      " 2   building_id      49352 non-null  object \n",
      " 3   created          49352 non-null  object \n",
      " 4   description      49352 non-null  object \n",
      " 5   display_address  49352 non-null  object \n",
      " 6   features         49352 non-null  object \n",
      " 7   latitude         49352 non-null  float64\n",
      " 8   listing_id       49352 non-null  int64  \n",
      " 9   longitude        49352 non-null  float64\n",
      " 10  manager_id       49352 non-null  object \n",
      " 11  photos           49352 non-null  object \n",
      " 12  price            49352 non-null  int64  \n",
      " 13  street_address   49352 non-null  object \n",
      " 14  interest_level   49352 non-null  object \n",
      "dtypes: float64(3), int64(3), object(9)\n",
      "memory usage: 6.0+ MB\n"
     ]
    }
   ],
   "source": [
    "df.info()"
   ]
  },
  {
   "cell_type": "markdown",
   "id": "8fb84e24-ceac-4257-951d-9f478551c6e7",
   "metadata": {},
   "source": [
    "There are **no empty** lines (Non-Null rows of each column equal to total number of rows)"
   ]
  },
  {
   "cell_type": "markdown",
   "id": "792eee7b",
   "metadata": {
    "ExecuteTime": {
     "end_time": "2024-03-24T13:59:34.109481Z",
     "start_time": "2024-03-24T13:59:34.100725Z"
    }
   },
   "source": [
    "**vi.** We’ll work only with 3 features: 'bathrooms', 'bedrooms', 'interest_level' and with target column ‘price’. Make a dataframe with these columns only."
   ]
  },
  {
   "cell_type": "code",
   "execution_count": 373,
   "id": "7d041349",
   "metadata": {},
   "outputs": [
    {
     "data": {
      "text/html": [
       "<div>\n",
       "<style scoped>\n",
       "    .dataframe tbody tr th:only-of-type {\n",
       "        vertical-align: middle;\n",
       "    }\n",
       "\n",
       "    .dataframe tbody tr th {\n",
       "        vertical-align: top;\n",
       "    }\n",
       "\n",
       "    .dataframe thead th {\n",
       "        text-align: right;\n",
       "    }\n",
       "</style>\n",
       "<table border=\"1\" class=\"dataframe\">\n",
       "  <thead>\n",
       "    <tr style=\"text-align: right;\">\n",
       "      <th></th>\n",
       "      <th>bathrooms</th>\n",
       "      <th>bedrooms</th>\n",
       "      <th>latitude</th>\n",
       "      <th>listing_id</th>\n",
       "      <th>longitude</th>\n",
       "      <th>price</th>\n",
       "    </tr>\n",
       "  </thead>\n",
       "  <tbody>\n",
       "    <tr>\n",
       "      <th>count</th>\n",
       "      <td>49352.00000</td>\n",
       "      <td>49352.000000</td>\n",
       "      <td>49352.000000</td>\n",
       "      <td>4.935200e+04</td>\n",
       "      <td>49352.000000</td>\n",
       "      <td>4.935200e+04</td>\n",
       "    </tr>\n",
       "    <tr>\n",
       "      <th>mean</th>\n",
       "      <td>1.21218</td>\n",
       "      <td>1.541640</td>\n",
       "      <td>40.741545</td>\n",
       "      <td>7.024055e+06</td>\n",
       "      <td>-73.955716</td>\n",
       "      <td>3.830174e+03</td>\n",
       "    </tr>\n",
       "    <tr>\n",
       "      <th>std</th>\n",
       "      <td>0.50142</td>\n",
       "      <td>1.115018</td>\n",
       "      <td>0.638535</td>\n",
       "      <td>1.262746e+05</td>\n",
       "      <td>1.177912</td>\n",
       "      <td>2.206687e+04</td>\n",
       "    </tr>\n",
       "    <tr>\n",
       "      <th>min</th>\n",
       "      <td>0.00000</td>\n",
       "      <td>0.000000</td>\n",
       "      <td>0.000000</td>\n",
       "      <td>6.811957e+06</td>\n",
       "      <td>-118.271000</td>\n",
       "      <td>4.300000e+01</td>\n",
       "    </tr>\n",
       "    <tr>\n",
       "      <th>25%</th>\n",
       "      <td>1.00000</td>\n",
       "      <td>1.000000</td>\n",
       "      <td>40.728300</td>\n",
       "      <td>6.915888e+06</td>\n",
       "      <td>-73.991700</td>\n",
       "      <td>2.500000e+03</td>\n",
       "    </tr>\n",
       "    <tr>\n",
       "      <th>50%</th>\n",
       "      <td>1.00000</td>\n",
       "      <td>1.000000</td>\n",
       "      <td>40.751800</td>\n",
       "      <td>7.021070e+06</td>\n",
       "      <td>-73.977900</td>\n",
       "      <td>3.150000e+03</td>\n",
       "    </tr>\n",
       "    <tr>\n",
       "      <th>75%</th>\n",
       "      <td>1.00000</td>\n",
       "      <td>2.000000</td>\n",
       "      <td>40.774300</td>\n",
       "      <td>7.128733e+06</td>\n",
       "      <td>-73.954800</td>\n",
       "      <td>4.100000e+03</td>\n",
       "    </tr>\n",
       "    <tr>\n",
       "      <th>max</th>\n",
       "      <td>10.00000</td>\n",
       "      <td>8.000000</td>\n",
       "      <td>44.883500</td>\n",
       "      <td>7.753784e+06</td>\n",
       "      <td>0.000000</td>\n",
       "      <td>4.490000e+06</td>\n",
       "    </tr>\n",
       "  </tbody>\n",
       "</table>\n",
       "</div>"
      ],
      "text/plain": [
       "         bathrooms      bedrooms      latitude    listing_id     longitude  \\\n",
       "count  49352.00000  49352.000000  49352.000000  4.935200e+04  49352.000000   \n",
       "mean       1.21218      1.541640     40.741545  7.024055e+06    -73.955716   \n",
       "std        0.50142      1.115018      0.638535  1.262746e+05      1.177912   \n",
       "min        0.00000      0.000000      0.000000  6.811957e+06   -118.271000   \n",
       "25%        1.00000      1.000000     40.728300  6.915888e+06    -73.991700   \n",
       "50%        1.00000      1.000000     40.751800  7.021070e+06    -73.977900   \n",
       "75%        1.00000      2.000000     40.774300  7.128733e+06    -73.954800   \n",
       "max       10.00000      8.000000     44.883500  7.753784e+06      0.000000   \n",
       "\n",
       "              price  \n",
       "count  4.935200e+04  \n",
       "mean   3.830174e+03  \n",
       "std    2.206687e+04  \n",
       "min    4.300000e+01  \n",
       "25%    2.500000e+03  \n",
       "50%    3.150000e+03  \n",
       "75%    4.100000e+03  \n",
       "max    4.490000e+06  "
      ]
     },
     "execution_count": 373,
     "metadata": {},
     "output_type": "execute_result"
    }
   ],
   "source": [
    "df.describe()"
   ]
  },
  {
   "cell_type": "markdown",
   "id": "9313d481-6bac-4f06-9aa8-4dcce959c717",
   "metadata": {},
   "source": [
    "**mean** - average of a data set\n",
    "\n",
    "**std** - standard deviation\n",
    "\n",
    "**25%, 50%, 75%** - percentiles"
   ]
  },
  {
   "cell_type": "code",
   "execution_count": 374,
   "id": "fb578765-1c7a-484d-bddc-bf8c9c574731",
   "metadata": {},
   "outputs": [
    {
     "data": {
      "text/html": [
       "<div>\n",
       "<style scoped>\n",
       "    .dataframe tbody tr th:only-of-type {\n",
       "        vertical-align: middle;\n",
       "    }\n",
       "\n",
       "    .dataframe tbody tr th {\n",
       "        vertical-align: top;\n",
       "    }\n",
       "\n",
       "    .dataframe thead th {\n",
       "        text-align: right;\n",
       "    }\n",
       "</style>\n",
       "<table border=\"1\" class=\"dataframe\">\n",
       "  <thead>\n",
       "    <tr style=\"text-align: right;\">\n",
       "      <th></th>\n",
       "      <th>bathrooms</th>\n",
       "      <th>bedrooms</th>\n",
       "      <th>price</th>\n",
       "      <th>latitude</th>\n",
       "      <th>listing_id</th>\n",
       "      <th>longitude</th>\n",
       "    </tr>\n",
       "  </thead>\n",
       "  <tbody>\n",
       "    <tr>\n",
       "      <th>bathrooms</th>\n",
       "      <td>1.000000</td>\n",
       "      <td>0.533446</td>\n",
       "      <td>0.069661</td>\n",
       "      <td>-0.009657</td>\n",
       "      <td>0.000776</td>\n",
       "      <td>0.010393</td>\n",
       "    </tr>\n",
       "    <tr>\n",
       "      <th>bedrooms</th>\n",
       "      <td>0.533446</td>\n",
       "      <td>1.000000</td>\n",
       "      <td>0.051788</td>\n",
       "      <td>-0.004745</td>\n",
       "      <td>0.011968</td>\n",
       "      <td>0.006892</td>\n",
       "    </tr>\n",
       "    <tr>\n",
       "      <th>price</th>\n",
       "      <td>0.069661</td>\n",
       "      <td>0.051788</td>\n",
       "      <td>1.000000</td>\n",
       "      <td>-0.000707</td>\n",
       "      <td>0.008090</td>\n",
       "      <td>-0.000087</td>\n",
       "    </tr>\n",
       "    <tr>\n",
       "      <th>latitude</th>\n",
       "      <td>-0.009657</td>\n",
       "      <td>-0.004745</td>\n",
       "      <td>-0.000707</td>\n",
       "      <td>1.000000</td>\n",
       "      <td>0.001712</td>\n",
       "      <td>-0.966807</td>\n",
       "    </tr>\n",
       "    <tr>\n",
       "      <th>listing_id</th>\n",
       "      <td>0.000776</td>\n",
       "      <td>0.011968</td>\n",
       "      <td>0.008090</td>\n",
       "      <td>0.001712</td>\n",
       "      <td>1.000000</td>\n",
       "      <td>-0.000907</td>\n",
       "    </tr>\n",
       "    <tr>\n",
       "      <th>longitude</th>\n",
       "      <td>0.010393</td>\n",
       "      <td>0.006892</td>\n",
       "      <td>-0.000087</td>\n",
       "      <td>-0.966807</td>\n",
       "      <td>-0.000907</td>\n",
       "      <td>1.000000</td>\n",
       "    </tr>\n",
       "  </tbody>\n",
       "</table>\n",
       "</div>"
      ],
      "text/plain": [
       "            bathrooms  bedrooms     price  latitude  listing_id  longitude\n",
       "bathrooms    1.000000  0.533446  0.069661 -0.009657    0.000776   0.010393\n",
       "bedrooms     0.533446  1.000000  0.051788 -0.004745    0.011968   0.006892\n",
       "price        0.069661  0.051788  1.000000 -0.000707    0.008090  -0.000087\n",
       "latitude    -0.009657 -0.004745 -0.000707  1.000000    0.001712  -0.966807\n",
       "listing_id   0.000776  0.011968  0.008090  0.001712    1.000000  -0.000907\n",
       "longitude    0.010393  0.006892 -0.000087 -0.966807   -0.000907   1.000000"
      ]
     },
     "execution_count": 374,
     "metadata": {},
     "output_type": "execute_result"
    }
   ],
   "source": [
    "# corr() might be applied only to columns that contain numeric values\n",
    "df[['bathrooms', 'bedrooms',  'price', 'latitude', 'listing_id', 'longitude']].corr()"
   ]
  },
  {
   "cell_type": "markdown",
   "id": "868e14d4-a033-437c-b842-51734d367d89",
   "metadata": {},
   "source": [
    "If correlation tends to 1, the link between feature and target is strong. The most significant correlation is between price and bathrooms."
   ]
  },
  {
   "cell_type": "markdown",
   "id": "b8e88d51-37d7-4d36-86df-f9f2237bc206",
   "metadata": {},
   "source": [
    "We’ll work only with 3 features: 'bathrooms', 'bedrooms', 'interest_level' and with target column ‘price’. Make a dataframe with these columns only."
   ]
  },
  {
   "cell_type": "code",
   "execution_count": 375,
   "id": "e6f611cd-2fc5-4ae5-bb39-67ec177fb0b4",
   "metadata": {},
   "outputs": [],
   "source": [
    "df = df[['bathrooms', 'bedrooms', 'interest_level', 'price']]"
   ]
  },
  {
   "cell_type": "markdown",
   "id": "b7999c2d",
   "metadata": {},
   "source": [
    "# Statistical data analysis"
   ]
  },
  {
   "cell_type": "markdown",
   "id": "dd812c1f",
   "metadata": {},
   "source": [
    "**i.** To start with statistical data analysis we recommend you refresh basic knowledge of statistics, such as Mean / Median / Mode / Variance / Standard Deviation. Also you are welcome to be free with distributions (Discrete uniform Distribution, Bernoulli Distribution, Binomial Distribution, Poisson Distribution, Normal Distribution, Exponential Distribution). Please make sure that you know the definitions of outliers, percentiles, confidential intervals."
   ]
  },
  {
   "cell_type": "markdown",
   "id": "26197adc",
   "metadata": {
    "ExecuteTime": {
     "end_time": "2024-03-24T14:09:35.765057Z",
     "start_time": "2024-03-24T14:09:35.747319Z"
    }
   },
   "source": [
    "**ii.** Make a quick sense with this article. Please take attention to such aspects as distributions and histograms, boxplot, outliers, kernel density function."
   ]
  },
  {
   "cell_type": "markdown",
   "id": "8e4b6495",
   "metadata": {},
   "source": [
    "**iii.** Target analysis"
   ]
  },
  {
   "cell_type": "markdown",
   "id": "2fe4b59a",
   "metadata": {},
   "source": [
    "**a.** Plot a histogram to understand the distribution of the target. Is it all clear?"
   ]
  },
  {
   "cell_type": "code",
   "execution_count": 376,
   "id": "8fb4eb02",
   "metadata": {},
   "outputs": [
    {
     "data": {
      "image/png": "[encoded data removed]",
      "text/plain": [
       "<Figure size 640x480 with 1 Axes>"
      ]
     },
     "metadata": {},
     "output_type": "display_data"
    }
   ],
   "source": [
    "data = df['price']\n",
    "plt.hist(data, edgecolor=\"black\", bins=50)\n",
    "plt.show()\n",
    "# the distribution is not clear"
   ]
  },
  {
   "cell_type": "markdown",
   "id": "b7f65895",
   "metadata": {},
   "source": [
    "**b.** The next step is boxplot(). What can you say about target? Are there any outliers?"
   ]
  },
  {
   "cell_type": "code",
   "execution_count": 377,
   "id": "79cc3d1c",
   "metadata": {},
   "outputs": [
    {
     "data": {
      "image/png": "[encoded data removed]",
      "text/plain": [
       "<Figure size 640x480 with 1 Axes>"
      ]
     },
     "metadata": {},
     "output_type": "display_data"
    }
   ],
   "source": [
    "plt.boxplot(data, vert=False)\n",
    "plt.show()\n",
    "# There are some outliers(white dots)"
   ]
  },
  {
   "cell_type": "markdown",
   "id": "19ade067",
   "metadata": {},
   "source": [
    "**c.** Drop rows which are out of the 1 and 99 percentile by the target column."
   ]
  },
  {
   "cell_type": "code",
   "execution_count": 378,
   "id": "18ccaf70",
   "metadata": {},
   "outputs": [],
   "source": [
    "upper_q = df['price'].quantile(0.99)\n",
    "lower_q = df['price'].quantile(0.01)\n",
    "df['price'] = df['price'][(df['price'] < upper_q) & (df['price'] > lower_q)]"
   ]
  },
  {
   "cell_type": "markdown",
   "id": "c1156746",
   "metadata": {},
   "source": [
    "**d.** Plot a histogram for price again. Explain the result."
   ]
  },
  {
   "cell_type": "code",
   "execution_count": 379,
   "id": "d98a5293",
   "metadata": {},
   "outputs": [
    {
     "data": {
      "image/png": "[encoded data removed]",
      "text/plain": [
       "<Figure size 640x480 with 1 Axes>"
      ]
     },
     "metadata": {},
     "output_type": "display_data"
    }
   ],
   "source": [
    "data = df['price']\n",
    "plt.hist(data, edgecolor=\"black\", bins=50)\n",
    "plt.show()\n",
    "# Result without outliers became clearer, more distributed"
   ]
  },
  {
   "cell_type": "markdown",
   "id": "db1dd703-c0c5-4601-9f3e-36b416d59d86",
   "metadata": {},
   "source": [
    "**iv.** Features analysis"
   ]
  },
  {
   "cell_type": "markdown",
   "id": "b333d6a4-5342-4978-8280-dd1d0a57b699",
   "metadata": {},
   "source": [
    "**a.** What is the type of column 'interest_level'?"
   ]
  },
  {
   "cell_type": "code",
   "execution_count": 380,
   "id": "ed9c51c5-0cdc-48c5-9898-027d8b025780",
   "metadata": {},
   "outputs": [
    {
     "name": "stdout",
     "output_type": "stream",
     "text": [
      "object\n"
     ]
    }
   ],
   "source": [
    "print(df['interest_level'].dtype)"
   ]
  },
  {
   "cell_type": "markdown",
   "id": "c0fab90a-8de7-4029-b492-56c5a0ea9f0e",
   "metadata": {},
   "source": [
    "**b.** Print the values of this column. How many items each value contains?"
   ]
  },
  {
   "cell_type": "code",
   "execution_count": 381,
   "id": "6451caa9-56d2-428f-9019-ade9a24ec2bd",
   "metadata": {},
   "outputs": [
    {
     "data": {
      "text/plain": [
       "array(['medium', 'low', 'high'], dtype=object)"
      ]
     },
     "execution_count": 381,
     "metadata": {},
     "output_type": "execute_result"
    }
   ],
   "source": [
    "df['interest_level'].unique()"
   ]
  },
  {
   "cell_type": "markdown",
   "id": "6d3c1ab2-0263-446c-9b24-5995695de1a0",
   "metadata": {},
   "source": [
    "**c.** Decode these values. For example, you may replace each value to 0, 1 or 2."
   ]
  },
  {
   "cell_type": "code",
   "execution_count": 382,
   "id": "e5a01c3e-e304-4f7c-9c09-e4f29df24f03",
   "metadata": {},
   "outputs": [
    {
     "data": {
      "text/plain": [
       "interest_level\n",
       "low       34284\n",
       "medium    11229\n",
       "high       3839\n",
       "Name: count, dtype: int64"
      ]
     },
     "execution_count": 382,
     "metadata": {},
     "output_type": "execute_result"
    }
   ],
   "source": [
    "df['interest_level'].value_counts()"
   ]
  },
  {
   "cell_type": "code",
   "execution_count": 383,
   "id": "751d16be-ab8c-46e5-8da4-2be39e88cba3",
   "metadata": {},
   "outputs": [],
   "source": [
    "# replace values: low = 0, medium = 1, high = 2\n",
    "df['interest_level'] = df['interest_level'].replace(['low', 'medium', 'high'], [0, 1, 2])\n",
    "\n",
    "# prevent warnings\n",
    "df['interest_level'].infer_objects(copy=False)\n",
    "pd.set_option('future.no_silent_downcasting', True)"
   ]
  },
  {
   "cell_type": "markdown",
   "id": "878dec57-0f88-4fe0-b920-ebc5f4b26d76",
   "metadata": {},
   "source": [
    "**d.** Plot histograms for features 'bathrooms', 'bedrooms'. Are there outliers?"
   ]
  },
  {
   "cell_type": "code",
   "execution_count": 384,
   "id": "bd82e1e6-f39a-48da-a42f-472c7cbf2b8b",
   "metadata": {},
   "outputs": [
    {
     "data": {
      "image/png": "[encoded data removed]",
      "text/plain": [
       "<Figure size 640x480 with 1 Axes>"
      ]
     },
     "metadata": {},
     "output_type": "display_data"
    }
   ],
   "source": [
    "data = df['bathrooms']\n",
    "plt.hist(data, edgecolor=\"black\", bins=10)\n",
    "plt.show()"
   ]
  },
  {
   "cell_type": "code",
   "execution_count": 385,
   "id": "38b9e38a-0240-4f8e-a765-e4f2df39bdd9",
   "metadata": {},
   "outputs": [
    {
     "data": {
      "image/png": "[encoded data removed]",
      "text/plain": [
       "<Figure size 640x480 with 1 Axes>"
      ]
     },
     "metadata": {},
     "output_type": "display_data"
    }
   ],
   "source": [
    "data = df['bathrooms']\n",
    "plt.boxplot(data, vert=False)\n",
    "plt.show()"
   ]
  },
  {
   "cell_type": "code",
   "execution_count": 386,
   "id": "5acf74b1-2c6f-4b5f-8206-9100c27e9d26",
   "metadata": {},
   "outputs": [
    {
     "data": {
      "image/png": "[encoded data removed]",
      "text/plain": [
       "<Figure size 640x480 with 1 Axes>"
      ]
     },
     "metadata": {},
     "output_type": "display_data"
    }
   ],
   "source": [
    "data = df['bedrooms']\n",
    "plt.hist(data, edgecolor=\"black\", bins=10)\n",
    "plt.show()"
   ]
  },
  {
   "cell_type": "code",
   "execution_count": 387,
   "id": "fbb7ebe2-1a05-4769-8dd6-29543109e62b",
   "metadata": {},
   "outputs": [
    {
     "data": {
      "image/png": "[encoded data removed]",
      "text/plain": [
       "<Figure size 640x480 with 1 Axes>"
      ]
     },
     "metadata": {},
     "output_type": "display_data"
    }
   ],
   "source": [
    "data = df['bathrooms']\n",
    "plt.boxplot(data, vert=False)\n",
    "plt.show()"
   ]
  },
  {
   "cell_type": "markdown",
   "id": "a872bf1d-c4a6-450d-bb92-1bcbe944d1c3",
   "metadata": {},
   "source": [
    "**Answer:** There are **no outliers** both in bathrooms and bedrooms histograms"
   ]
  },
  {
   "cell_type": "markdown",
   "id": "a518dead-c243-4cd0-8b6a-a940ffa97ad2",
   "metadata": {},
   "source": [
    "**v.** Complex analysis"
   ]
  },
  {
   "cell_type": "markdown",
   "id": "5c1f3da5-9040-41d7-953f-17cf09be0b32",
   "metadata": {},
   "source": [
    "**a.** Plot a correlation matrix to understand correlation between features and target. Plot a heatmap plot for correlation matrix. Is there a correlation?"
   ]
  },
  {
   "cell_type": "code",
   "execution_count": 388,
   "id": "398428e8-55b7-4d3d-b3cd-525e7087b178",
   "metadata": {},
   "outputs": [
    {
     "name": "stdout",
     "output_type": "stream",
     "text": [
      "                bathrooms  bedrooms  interest_level     price\n",
      "bathrooms        1.000000  0.533446       -0.082573  0.670808\n",
      "bedrooms         0.533446  1.000000        0.027293  0.547310\n",
      "interest_level  -0.082573  0.027293        1.000000 -0.199652\n",
      "price            0.670808  0.547310       -0.199652  1.000000\n"
     ]
    }
   ],
   "source": [
    "correlation_matrix = df[['bathrooms', 'bedrooms', 'interest_level', 'price']].corr()\n",
    "print(correlation_matrix)"
   ]
  },
  {
   "cell_type": "code",
   "execution_count": 389,
   "id": "e23eb8f0-b133-4369-a214-5ead488e0b52",
   "metadata": {},
   "outputs": [
    {
     "data": {
      "image/png": "[encoded data removed]",
      "text/plain": [
       "<Figure size 640x480 with 1 Axes>"
      ]
     },
     "metadata": {},
     "output_type": "display_data"
    }
   ],
   "source": [
    "sb.heatmap(correlation_matrix, annot=True, cbar=False)\n",
    "plt.show()"
   ]
  },
  {
   "cell_type": "markdown",
   "id": "c299d220-056e-43e1-83c2-0c40b9293e3f",
   "metadata": {},
   "source": [
    "The strongest correlation is between **price and bathrooms**"
   ]
  },
  {
   "cell_type": "markdown",
   "id": "63c8e4bc-dcb0-4972-bcab-c6f966b82819",
   "metadata": {},
   "source": [
    "**b.** Use a scatter plot to visualize correlation between features and target. You should return 3 plots, where X axis it target, and Y axis is a feature."
   ]
  },
  {
   "cell_type": "code",
   "execution_count": 390,
   "id": "d979eae7-7be6-4a5b-a9aa-1868342310d1",
   "metadata": {},
   "outputs": [
    {
     "data": {
      "image/png": "[encoded data removed]",
      "text/plain": [
       "<Figure size 640x480 with 1 Axes>"
      ]
     },
     "metadata": {},
     "output_type": "display_data"
    }
   ],
   "source": [
    "plt.scatter(df['price'], df['bathrooms'], alpha=0.3)\n",
    "plt.show()"
   ]
  },
  {
   "cell_type": "code",
   "execution_count": 391,
   "id": "d1eb89ac-bbc8-42a6-bbba-c9f3b90cc366",
   "metadata": {},
   "outputs": [
    {
     "data": {
      "image/png": "[encoded data removed]",
      "text/plain": [
       "<Figure size 640x480 with 1 Axes>"
      ]
     },
     "metadata": {},
     "output_type": "display_data"
    }
   ],
   "source": [
    "plt.scatter(df['price'], df['bedrooms'], alpha=0.3)\n",
    "plt.show()"
   ]
  },
  {
   "cell_type": "code",
   "execution_count": 392,
   "id": "030fd954-e323-4fdd-8c30-ac5e8b05aea0",
   "metadata": {},
   "outputs": [
    {
     "data": {
      "image/png": "[encoded data removed]",
      "text/plain": [
       "<Figure size 640x480 with 1 Axes>"
      ]
     },
     "metadata": {},
     "output_type": "display_data"
    }
   ],
   "source": [
    "plt.scatter(df['price'], df['interest_level'], alpha=0.3)\n",
    "plt.show()"
   ]
  },
  {
   "cell_type": "markdown",
   "id": "e45f9c7e-0714-421d-ab8d-e045919a2a08",
   "metadata": {},
   "source": [
    "# Generate features"
   ]
  },
  {
   "cell_type": "markdown",
   "id": "4e2ca210-4e6f-46ea-be40-696de933f0f0",
   "metadata": {},
   "source": [
    "You may create all features you want. For example, you may add 3 new features, which are squared: 'bathrooms_squared’, 'bedrooms_squared’, ‘'interest_level_squared'. Plot a correlation matrix with new features. Are new features more correlated with target then basic features?"
   ]
  },
  {
   "cell_type": "code",
   "execution_count": 393,
   "id": "3966ce1a-9431-4b1b-bf17-5f4c944f49de",
   "metadata": {},
   "outputs": [
    {
     "name": "stdout",
     "output_type": "stream",
     "text": [
      "New features:\n",
      "                   bathrooms_sq  bedrooms_sq  interest_level_sq     price\n",
      "bathrooms_sq           1.000000     0.540462          -0.075253  0.646949\n",
      "bedrooms_sq            0.540462     1.000000           0.013757  0.544612\n",
      "interest_level_sq     -0.075253     0.013757           1.000000 -0.182283\n",
      "price                  0.646949     0.544612          -0.182283  1.000000\n",
      "\n",
      "Basic features:\n",
      "                bathrooms  bedrooms  interest_level     price\n",
      "bathrooms        1.000000  0.533446       -0.082573  0.670808\n",
      "bedrooms         0.533446  1.000000        0.027293  0.547310\n",
      "interest_level  -0.082573  0.027293        1.000000 -0.199652\n",
      "price            0.670808  0.547310       -0.199652  1.000000\n"
     ]
    }
   ],
   "source": [
    "print(\"New features:\")\n",
    "updated_df = df\n",
    "updated_df['bathrooms_sq']= updated_df['bathrooms'] ** 2\n",
    "updated_df['bedrooms_sq']= updated_df['bedrooms'] ** 2\n",
    "updated_df['interest_level_sq']= updated_df['interest_level'] ** 2\n",
    "square_correlation = df[['bathrooms_sq', 'bedrooms_sq', 'interest_level_sq', 'price']].corr()\n",
    "print(square_correlation)\n",
    "\n",
    "print(\"\\nBasic features:\")\n",
    "print(correlation_matrix)"
   ]
  },
  {
   "cell_type": "markdown",
   "id": "4dd4b7af-7dfc-4fdf-97b4-11494fc21f17",
   "metadata": {},
   "source": [
    "**Answer:** Lack of correlation became more obvious, while correlation remains the same."
   ]
  },
  {
   "cell_type": "markdown",
   "id": "5597c415-7551-4fed-9472-5f53737409f3",
   "metadata": {},
   "source": [
    "# Now you need to train 3 models: linear regression, decision tree and native model. "
   ]
  },
  {
   "cell_type": "markdown",
   "id": "1f778276-ef95-4115-9b33-5ba36ece043a",
   "metadata": {},
   "source": [
    "**i.** Result table. Create two empty pandas DataFrames with columns ‘model’, ‘train’, ‘test’. "
   ]
  },
  {
   "cell_type": "code",
   "execution_count": 396,
   "id": "ed5cf1b2-86b2-4852-bcb9-f184b8396e08",
   "metadata": {},
   "outputs": [],
   "source": [
    "result_MAE = pd.DataFrame(columns=['model', 'train', 'test'])\n",
    "result_RMSE = pd.DataFrame(columns=['model', 'train', 'test'])"
   ]
  },
  {
   "cell_type": "code",
   "execution_count": 394,
   "id": "d8f30a5b-1e86-491f-8d65-3e9ccf271978",
   "metadata": {},
   "outputs": [],
   "source": [
    "x = df[['bathrooms', 'bedrooms', 'interest_level']]\n",
    "y = df[['price']]\n",
    "\n",
    "# split data into train and test samples\n",
    "train_x, test_x, train_y, test_y = model_selection.train_test_split(x, y, test_size=0.21, random_state=21)\n",
    "\n",
    "# replace NaN with mean value\n",
    "train_y.fillna(train_y.mean(), inplace=True)\n",
    "test_y.fillna(test_y.mean(), inplace=True)"
   ]
  },
  {
   "cell_type": "code",
   "execution_count": 395,
   "id": "1227b02b-7dc6-44e7-a596-e9ba1e72edbf",
   "metadata": {},
   "outputs": [],
   "source": [
    "poly_features = preprocessing.PolynomialFeatures(degree=10)\n",
    "train_poly = poly_features.fit_transform(train_x)\n",
    "test_poly = poly_features.fit_transform(test_x)"
   ]
  },
  {
   "cell_type": "markdown",
   "id": "4a23f85f-8832-4aab-91a4-688a3741c85f",
   "metadata": {},
   "source": [
    "## Linear Regression"
   ]
  },
  {
   "cell_type": "markdown",
   "id": "a47ef38b-b38f-4ce7-bb37-d901ee7d0d24",
   "metadata": {},
   "source": [
    "**a.** Initialize linear regression from sklearn without parameters."
   ]
  },
  {
   "cell_type": "code",
   "execution_count": 397,
   "id": "704c2d6b-dd92-4822-a159-3b24b9376118",
   "metadata": {},
   "outputs": [],
   "source": [
    "linreg = linear_model.LinearRegression()"
   ]
  },
  {
   "cell_type": "markdown",
   "id": "ad3a8476-86c9-4296-bb17-466ea098aff0",
   "metadata": {},
   "source": [
    "**b.** Fit your model and make predict on train and test features. Save it as new columns in data"
   ]
  },
  {
   "cell_type": "code",
   "execution_count": 417,
   "id": "e5b0d9de-e798-45b5-95ac-8b59de00b808",
   "metadata": {},
   "outputs": [],
   "source": [
    "linreg.fit(train_poly, train_y)\n",
    "train_prediction = linreg.predict(train_poly)\n",
    "test_prediction = linreg.predict(test_poly)"
   ]
  },
  {
   "cell_type": "markdown",
   "id": "498e6bfb-e02a-4db8-af95-9b30f952edaf",
   "metadata": {},
   "source": [
    "**c.** Calculate MAE (Mean Absolute Error) on train and test targets"
   ]
  },
  {
   "cell_type": "code",
   "execution_count": 399,
   "id": "87f9850a-aff4-43e8-9a46-097e10ca8d7a",
   "metadata": {},
   "outputs": [],
   "source": [
    "mae_train = metrics.mean_absolute_error(train_y, train_prediction)\n",
    "mae_test = metrics.mean_absolute_error(test_y, test_prediction)"
   ]
  },
  {
   "cell_type": "markdown",
   "id": "d3d4e55a-25af-4e6e-a4e8-be461fb6f517",
   "metadata": {},
   "source": [
    "**d.** Calculate RMSE (Root Mean Square Error) on train and test targets"
   ]
  },
  {
   "cell_type": "code",
   "execution_count": 400,
   "id": "248b5e14-fe2d-4639-95f7-f9442083bf5e",
   "metadata": {},
   "outputs": [],
   "source": [
    "rmse_train = metrics.root_mean_squared_error(train_y, train_prediction)\n",
    "rmse_test = metrics.root_mean_squared_error(test_y, test_prediction)"
   ]
  },
  {
   "cell_type": "markdown",
   "id": "3b143ec9-5f86-44fe-849e-6398a62ae6d7",
   "metadata": {},
   "source": [
    "**e.** Insert your metrics into tables result_MAE and result_RMSE with model name ‘linear_regression’"
   ]
  },
  {
   "cell_type": "code",
   "execution_count": 401,
   "id": "6d96c739-84fe-4c3b-a221-f36063f8253f",
   "metadata": {},
   "outputs": [
    {
     "data": {
      "text/html": [
       "<div>\n",
       "<style scoped>\n",
       "    .dataframe tbody tr th:only-of-type {\n",
       "        vertical-align: middle;\n",
       "    }\n",
       "\n",
       "    .dataframe tbody tr th {\n",
       "        vertical-align: top;\n",
       "    }\n",
       "\n",
       "    .dataframe thead th {\n",
       "        text-align: right;\n",
       "    }\n",
       "</style>\n",
       "<table border=\"1\" class=\"dataframe\">\n",
       "  <thead>\n",
       "    <tr style=\"text-align: right;\">\n",
       "      <th></th>\n",
       "      <th>model</th>\n",
       "      <th>train</th>\n",
       "      <th>test</th>\n",
       "    </tr>\n",
       "  </thead>\n",
       "  <tbody>\n",
       "    <tr>\n",
       "      <th>0</th>\n",
       "      <td>linear_regression</td>\n",
       "      <td>749.364149</td>\n",
       "      <td>1876.464733</td>\n",
       "    </tr>\n",
       "  </tbody>\n",
       "</table>\n",
       "</div>"
      ],
      "text/plain": [
       "               model       train         test\n",
       "0  linear_regression  749.364149  1876.464733"
      ]
     },
     "execution_count": 401,
     "metadata": {},
     "output_type": "execute_result"
    }
   ],
   "source": [
    "result_MAE.loc[0] = ['linear_regression', mae_train, mae_test]\n",
    "result_MAE"
   ]
  },
  {
   "cell_type": "code",
   "execution_count": 402,
   "id": "52648660-1ff4-4e67-aea9-a030c7c60b5d",
   "metadata": {},
   "outputs": [
    {
     "data": {
      "text/html": [
       "<div>\n",
       "<style scoped>\n",
       "    .dataframe tbody tr th:only-of-type {\n",
       "        vertical-align: middle;\n",
       "    }\n",
       "\n",
       "    .dataframe tbody tr th {\n",
       "        vertical-align: top;\n",
       "    }\n",
       "\n",
       "    .dataframe thead th {\n",
       "        text-align: right;\n",
       "    }\n",
       "</style>\n",
       "<table border=\"1\" class=\"dataframe\">\n",
       "  <thead>\n",
       "    <tr style=\"text-align: right;\">\n",
       "      <th></th>\n",
       "      <th>model</th>\n",
       "      <th>train</th>\n",
       "      <th>test</th>\n",
       "    </tr>\n",
       "  </thead>\n",
       "  <tbody>\n",
       "    <tr>\n",
       "      <th>0</th>\n",
       "      <td>linear_regression</td>\n",
       "      <td>1084.539583</td>\n",
       "      <td>79497.139392</td>\n",
       "    </tr>\n",
       "  </tbody>\n",
       "</table>\n",
       "</div>"
      ],
      "text/plain": [
       "               model        train          test\n",
       "0  linear_regression  1084.539583  79497.139392"
      ]
     },
     "execution_count": 402,
     "metadata": {},
     "output_type": "execute_result"
    }
   ],
   "source": [
    "result_RMSE.loc[0] = ['linear_regression', rmse_train, rmse_test]\n",
    "result_RMSE"
   ]
  },
  {
   "cell_type": "markdown",
   "id": "a0350e2c-b571-4c48-bb1a-848aced4983d",
   "metadata": {},
   "source": [
    "## Decision Tree"
   ]
  },
  {
   "cell_type": "markdown",
   "id": "97b69a2a-9fb5-41e9-b8d6-ea180efcb84c",
   "metadata": {},
   "source": [
    "**a.** Initialize decision tree regressor from sklearn with fixed random_state=42"
   ]
  },
  {
   "cell_type": "code",
   "execution_count": 403,
   "id": "bcc94afd-f2ea-46c6-872a-0db5bc138201",
   "metadata": {},
   "outputs": [],
   "source": [
    "tree_regressor = tree.DecisionTreeRegressor(random_state=42)"
   ]
  },
  {
   "cell_type": "markdown",
   "id": "abd28d21-3ecc-422a-8739-69a9b4147ec7",
   "metadata": {},
   "source": [
    "**b.** Fit it on train features and train targe and make predict on train and test features. Save it as new column in data"
   ]
  },
  {
   "cell_type": "code",
   "execution_count": 404,
   "id": "c0323355-80ab-4c26-8404-1e0a79837ffa",
   "metadata": {},
   "outputs": [],
   "source": [
    "tree_regressor.fit(train_poly, train_y)\n",
    "tree_train_prediction = tree_regressor.predict(train_poly)\n",
    "tree_test_prediction = tree_regressor.predict(test_poly)"
   ]
  },
  {
   "cell_type": "markdown",
   "id": "04ae283b-ca99-45c9-8120-d548112dc5ad",
   "metadata": {},
   "source": [
    "**c.** Calculate MAE (Mean Absolute Error) on train and test targets"
   ]
  },
  {
   "cell_type": "code",
   "execution_count": 405,
   "id": "87e06581-5834-4fe2-a2a8-bfb851316117",
   "metadata": {},
   "outputs": [],
   "source": [
    "tree_mae_train = metrics.mean_absolute_error(train_y, tree_train_prediction)\n",
    "tree_mae_test = metrics.mean_absolute_error(test_y, tree_test_prediction)"
   ]
  },
  {
   "cell_type": "markdown",
   "id": "3807781d-f5bf-4592-acd5-1421b25f2ecc",
   "metadata": {},
   "source": [
    "**d.** Calculate RMSE (Root Mean Square Error) on train and test targets"
   ]
  },
  {
   "cell_type": "code",
   "execution_count": 418,
   "id": "f91149da-ea7b-4546-9eb0-c7369ef44ac8",
   "metadata": {},
   "outputs": [],
   "source": [
    "tree_rmse_train = metrics.root_mean_squared_error(train_y, tree_train_prediction)\n",
    "tree_rmse_test = metrics.root_mean_squared_error(test_y, tree_test_prediction)"
   ]
  },
  {
   "cell_type": "markdown",
   "id": "ea7d5412-af42-49d1-9420-cc9921e55710",
   "metadata": {},
   "source": [
    "**e.** Insert your metrics into tables result_MAE and result_RMSE with model name ‘decision_tree’"
   ]
  },
  {
   "cell_type": "code",
   "execution_count": 419,
   "id": "6f008b91-ea6c-460f-9ffa-1b116fee00da",
   "metadata": {},
   "outputs": [
    {
     "data": {
      "text/html": [
       "<div>\n",
       "<style scoped>\n",
       "    .dataframe tbody tr th:only-of-type {\n",
       "        vertical-align: middle;\n",
       "    }\n",
       "\n",
       "    .dataframe tbody tr th {\n",
       "        vertical-align: top;\n",
       "    }\n",
       "\n",
       "    .dataframe thead th {\n",
       "        text-align: right;\n",
       "    }\n",
       "</style>\n",
       "<table border=\"1\" class=\"dataframe\">\n",
       "  <thead>\n",
       "    <tr style=\"text-align: right;\">\n",
       "      <th></th>\n",
       "      <th>model</th>\n",
       "      <th>train</th>\n",
       "      <th>test</th>\n",
       "    </tr>\n",
       "  </thead>\n",
       "  <tbody>\n",
       "    <tr>\n",
       "      <th>0</th>\n",
       "      <td>linear_regression</td>\n",
       "      <td>749.364149</td>\n",
       "      <td>1876.464733</td>\n",
       "    </tr>\n",
       "    <tr>\n",
       "      <th>1</th>\n",
       "      <td>decision_tree</td>\n",
       "      <td>749.045725</td>\n",
       "      <td>754.926240</td>\n",
       "    </tr>\n",
       "    <tr>\n",
       "      <th>2</th>\n",
       "      <td>native_mean</td>\n",
       "      <td>1110.790420</td>\n",
       "      <td>1112.314156</td>\n",
       "    </tr>\n",
       "    <tr>\n",
       "      <th>3</th>\n",
       "      <td>native_median</td>\n",
       "      <td>1067.279556</td>\n",
       "      <td>1068.343377</td>\n",
       "    </tr>\n",
       "  </tbody>\n",
       "</table>\n",
       "</div>"
      ],
      "text/plain": [
       "               model        train         test\n",
       "0  linear_regression   749.364149  1876.464733\n",
       "1      decision_tree   749.045725   754.926240\n",
       "2        native_mean  1110.790420  1112.314156\n",
       "3      native_median  1067.279556  1068.343377"
      ]
     },
     "execution_count": 419,
     "metadata": {},
     "output_type": "execute_result"
    }
   ],
   "source": [
    "result_MAE.loc[1] = ['decision_tree', tree_mae_train, tree_mae_test]\n",
    "result_MAE"
   ]
  },
  {
   "cell_type": "code",
   "execution_count": 420,
   "id": "69e14ec0-c955-4c58-9f55-75dd8c121fec",
   "metadata": {},
   "outputs": [
    {
     "data": {
      "text/html": [
       "<div>\n",
       "<style scoped>\n",
       "    .dataframe tbody tr th:only-of-type {\n",
       "        vertical-align: middle;\n",
       "    }\n",
       "\n",
       "    .dataframe tbody tr th {\n",
       "        vertical-align: top;\n",
       "    }\n",
       "\n",
       "    .dataframe thead th {\n",
       "        text-align: right;\n",
       "    }\n",
       "</style>\n",
       "<table border=\"1\" class=\"dataframe\">\n",
       "  <thead>\n",
       "    <tr style=\"text-align: right;\">\n",
       "      <th></th>\n",
       "      <th>model</th>\n",
       "      <th>train</th>\n",
       "      <th>test</th>\n",
       "    </tr>\n",
       "  </thead>\n",
       "  <tbody>\n",
       "    <tr>\n",
       "      <th>0</th>\n",
       "      <td>linear_regression</td>\n",
       "      <td>1084.539583</td>\n",
       "      <td>79497.139392</td>\n",
       "    </tr>\n",
       "    <tr>\n",
       "      <th>1</th>\n",
       "      <td>decision_tree</td>\n",
       "      <td>1084.185110</td>\n",
       "      <td>1098.556607</td>\n",
       "    </tr>\n",
       "    <tr>\n",
       "      <th>2</th>\n",
       "      <td>native_mean</td>\n",
       "      <td>1570.474038</td>\n",
       "      <td>1564.846167</td>\n",
       "    </tr>\n",
       "    <tr>\n",
       "      <th>3</th>\n",
       "      <td>native_median</td>\n",
       "      <td>1605.966848</td>\n",
       "      <td>1603.879555</td>\n",
       "    </tr>\n",
       "  </tbody>\n",
       "</table>\n",
       "</div>"
      ],
      "text/plain": [
       "               model        train          test\n",
       "0  linear_regression  1084.539583  79497.139392\n",
       "1      decision_tree  1084.185110   1098.556607\n",
       "2        native_mean  1570.474038   1564.846167\n",
       "3      native_median  1605.966848   1603.879555"
      ]
     },
     "execution_count": 420,
     "metadata": {},
     "output_type": "execute_result"
    }
   ],
   "source": [
    "result_RMSE.loc[1] = ['decision_tree', tree_rmse_train, tree_rmse_test]\n",
    "result_RMSE"
   ]
  },
  {
   "cell_type": "markdown",
   "id": "9d569ce7-86c7-45a2-a190-9b8cf67a1ab6",
   "metadata": {},
   "source": [
    "## Native models"
   ]
  },
  {
   "cell_type": "markdown",
   "id": "061086f2-4493-44d8-98d2-97c550c3ba0c",
   "metadata": {},
   "source": [
    "**a.** Calculate mean and median of ‘price’ on train and test data and create a columns with these values"
   ]
  },
  {
   "cell_type": "code",
   "execution_count": 421,
   "id": "5ea9074e-b8a8-41e6-962b-2c176776cc06",
   "metadata": {},
   "outputs": [],
   "source": [
    "train_df = pd.DataFrame(train_y)\n",
    "train_df['mean'] = train_df['price'].mean()\n",
    "train_df['median'] = train_df['price'].median()\n",
    "\n",
    "test_df = pd.DataFrame(test_y)\n",
    "test_df['mean'] = test_df['price'].mean()\n",
    "test_df['median'] = test_df['price'].median()"
   ]
  },
  {
   "cell_type": "markdown",
   "id": "bcf11d9d-d019-4337-b5b0-0ed0944f7d99",
   "metadata": {},
   "source": [
    "**b.** Calculate MAE on train and test targets between your target and calculated mean and median values"
   ]
  },
  {
   "cell_type": "code",
   "execution_count": 422,
   "id": "2ee31a0a-63ca-4882-988f-7658494ae8f7",
   "metadata": {},
   "outputs": [],
   "source": [
    "mean_mae_train = metrics.mean_absolute_error(train_y, train_df['mean'])\n",
    "mean_mae_test = metrics.mean_absolute_error(test_y, test_df['mean'])\n",
    "\n",
    "median_mae_train = metrics.mean_absolute_error(train_y, train_df['median'])\n",
    "median_mae_test = metrics.mean_absolute_error(test_y, test_df['median'])"
   ]
  },
  {
   "cell_type": "markdown",
   "id": "99913f3c-b4e9-4f74-86e5-ef7b7b8bbd8b",
   "metadata": {},
   "source": [
    "**c.** Calculate RMSE on train and test targets between your target and calculated mean and median values"
   ]
  },
  {
   "cell_type": "code",
   "execution_count": 423,
   "id": "9c08e6ac-ce3f-4e02-8e64-f0e42ea61079",
   "metadata": {},
   "outputs": [],
   "source": [
    "mean_rmse_train = metrics.root_mean_squared_error(train_y, train_df['mean'])\n",
    "mean_rmse_test = metrics.root_mean_squared_error(test_y, test_df['mean'])\n",
    "\n",
    "median_rmse_train = metrics.root_mean_squared_error(train_y, train_df['median'])\n",
    "median_rmse_test = metrics.root_mean_squared_error(test_y, test_df['median'])"
   ]
  },
  {
   "cell_type": "markdown",
   "id": "607149cf-ff34-4a13-81a7-f8dccd8287ea",
   "metadata": {},
   "source": [
    "**d.** Insert your metrics into tables result_MAE and result_RMSE with model names ‘native_mean’ and ‘native_median’"
   ]
  },
  {
   "cell_type": "code",
   "execution_count": 424,
   "id": "9c1c37e3-3715-47f0-8a40-3485543c7916",
   "metadata": {},
   "outputs": [],
   "source": [
    "result_MAE.loc[2] = ['native_mean', mean_mae_train, mean_mae_test]\n",
    "result_MAE.loc[3] = ['native_median', median_mae_train, median_mae_test]\n",
    "\n",
    "result_RMSE.loc[2] = ['native_mean', mean_rmse_train, mean_rmse_test]\n",
    "result_RMSE.loc[3] = ['native_median', median_rmse_train, median_rmse_test]"
   ]
  },
  {
   "cell_type": "code",
   "execution_count": 425,
   "id": "5e085faf-4f6c-4d72-8e57-eda0c9493311",
   "metadata": {},
   "outputs": [
    {
     "data": {
      "text/html": [
       "<div>\n",
       "<style scoped>\n",
       "    .dataframe tbody tr th:only-of-type {\n",
       "        vertical-align: middle;\n",
       "    }\n",
       "\n",
       "    .dataframe tbody tr th {\n",
       "        vertical-align: top;\n",
       "    }\n",
       "\n",
       "    .dataframe thead th {\n",
       "        text-align: right;\n",
       "    }\n",
       "</style>\n",
       "<table border=\"1\" class=\"dataframe\">\n",
       "  <thead>\n",
       "    <tr style=\"text-align: right;\">\n",
       "      <th></th>\n",
       "      <th>model</th>\n",
       "      <th>train</th>\n",
       "      <th>test</th>\n",
       "    </tr>\n",
       "  </thead>\n",
       "  <tbody>\n",
       "    <tr>\n",
       "      <th>0</th>\n",
       "      <td>linear_regression</td>\n",
       "      <td>749.364149</td>\n",
       "      <td>1876.464733</td>\n",
       "    </tr>\n",
       "    <tr>\n",
       "      <th>1</th>\n",
       "      <td>decision_tree</td>\n",
       "      <td>749.045725</td>\n",
       "      <td>754.926240</td>\n",
       "    </tr>\n",
       "    <tr>\n",
       "      <th>2</th>\n",
       "      <td>native_mean</td>\n",
       "      <td>1110.790420</td>\n",
       "      <td>1112.314156</td>\n",
       "    </tr>\n",
       "    <tr>\n",
       "      <th>3</th>\n",
       "      <td>native_median</td>\n",
       "      <td>1067.279556</td>\n",
       "      <td>1068.343377</td>\n",
       "    </tr>\n",
       "  </tbody>\n",
       "</table>\n",
       "</div>"
      ],
      "text/plain": [
       "               model        train         test\n",
       "0  linear_regression   749.364149  1876.464733\n",
       "1      decision_tree   749.045725   754.926240\n",
       "2        native_mean  1110.790420  1112.314156\n",
       "3      native_median  1067.279556  1068.343377"
      ]
     },
     "execution_count": 425,
     "metadata": {},
     "output_type": "execute_result"
    }
   ],
   "source": [
    "result_MAE"
   ]
  },
  {
   "cell_type": "code",
   "execution_count": 426,
   "id": "d0156e36-a831-4200-95e3-2134e7bf17f6",
   "metadata": {},
   "outputs": [
    {
     "data": {
      "text/html": [
       "<div>\n",
       "<style scoped>\n",
       "    .dataframe tbody tr th:only-of-type {\n",
       "        vertical-align: middle;\n",
       "    }\n",
       "\n",
       "    .dataframe tbody tr th {\n",
       "        vertical-align: top;\n",
       "    }\n",
       "\n",
       "    .dataframe thead th {\n",
       "        text-align: right;\n",
       "    }\n",
       "</style>\n",
       "<table border=\"1\" class=\"dataframe\">\n",
       "  <thead>\n",
       "    <tr style=\"text-align: right;\">\n",
       "      <th></th>\n",
       "      <th>model</th>\n",
       "      <th>train</th>\n",
       "      <th>test</th>\n",
       "    </tr>\n",
       "  </thead>\n",
       "  <tbody>\n",
       "    <tr>\n",
       "      <th>0</th>\n",
       "      <td>linear_regression</td>\n",
       "      <td>1084.539583</td>\n",
       "      <td>79497.139392</td>\n",
       "    </tr>\n",
       "    <tr>\n",
       "      <th>1</th>\n",
       "      <td>decision_tree</td>\n",
       "      <td>1084.185110</td>\n",
       "      <td>1098.556607</td>\n",
       "    </tr>\n",
       "    <tr>\n",
       "      <th>2</th>\n",
       "      <td>native_mean</td>\n",
       "      <td>1570.474038</td>\n",
       "      <td>1564.846167</td>\n",
       "    </tr>\n",
       "    <tr>\n",
       "      <th>3</th>\n",
       "      <td>native_median</td>\n",
       "      <td>1605.966848</td>\n",
       "      <td>1603.879555</td>\n",
       "    </tr>\n",
       "  </tbody>\n",
       "</table>\n",
       "</div>"
      ],
      "text/plain": [
       "               model        train          test\n",
       "0  linear_regression  1084.539583  79497.139392\n",
       "1      decision_tree  1084.185110   1098.556607\n",
       "2        native_mean  1570.474038   1564.846167\n",
       "3      native_median  1605.966848   1603.879555"
      ]
     },
     "execution_count": 426,
     "metadata": {},
     "output_type": "execute_result"
    }
   ],
   "source": [
    "result_RMSE"
   ]
  },
  {
   "cell_type": "markdown",
   "id": "57ce4706-e4fb-4573-9ac3-bbaa663219cf",
   "metadata": {},
   "source": [
    "**Answer**: Desicion tree seems to be the best model in this case: the results on train and test samples do not differ much."
   ]
  }
 ],
 "metadata": {
  "kernelspec": {
   "display_name": "Python 3 (ipykernel)",
   "language": "python",
   "name": "python3"
  },
  "language_info": {
   "codemirror_mode": {
    "name": "ipython",
    "version": 3
   },
   "file_extension": ".py",
   "mimetype": "text/x-python",
   "name": "python",
   "nbconvert_exporter": "python",
   "pygments_lexer": "ipython3",
   "version": "3.12.0"
  },
  "toc": {
   "base_numbering": 1,
   "nav_menu": {},
   "number_sections": true,
   "sideBar": true,
   "skip_h1_title": false,
   "title_cell": "Table of Contents",
   "title_sidebar": "Contents",
   "toc_cell": false,
   "toc_position": {},
   "toc_section_display": true,
   "toc_window_display": false
  }
 },
 "nbformat": 4,
 "nbformat_minor": 5
}
