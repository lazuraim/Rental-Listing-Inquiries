{
 "cells": [
  {
   "cell_type": "markdown",
   "id": "3bcf8d37",
   "metadata": {},
   "source": [
    "# **Intro data analysis**"
   ]
  },
  {
   "cell_type": "markdown",
   "id": "4011aded",
   "metadata": {
    "ExecuteTime": {
     "end_time": "2024-03-24T13:57:55.967556Z",
     "start_time": "2024-03-24T13:57:55.961544Z"
    }
   },
   "source": [
    "**i.** Import libraries"
   ]
  },
  {
   "cell_type": "code",
   "execution_count": null,
   "id": "7a6c49fb",
   "metadata": {
    "ExecuteTime": {
     "end_time": "2024-03-24T13:55:33.496276Z",
     "start_time": "2024-03-24T13:55:33.483572Z"
    }
   },
   "outputs": [],
   "source": [
    "import pandas as pd\n",
    "import numpy as np\n",
    "import sklearn\n",
    "import lightgbm\n",
    "import scipy\n",
    "import statsmodels\n",
    "import matplotlib\n",
    "import seaborn"
   ]
  },
  {
   "cell_type": "markdown",
   "id": "cdc890fd",
   "metadata": {},
   "source": [
    "**ii.** Load data from kaggle with pandas."
   ]
  },
  {
   "cell_type": "code",
   "execution_count": null,
   "id": "794a67a8",
   "metadata": {},
   "outputs": [],
   "source": []
  },
  {
   "cell_type": "markdown",
   "id": "c333ebd1",
   "metadata": {},
   "source": [
    "**iii.** What is the size of your data?"
   ]
  },
  {
   "cell_type": "code",
   "execution_count": null,
   "id": "b61a75dc",
   "metadata": {},
   "outputs": [],
   "source": []
  },
  {
   "cell_type": "markdown",
   "id": "fa87974c",
   "metadata": {
    "ExecuteTime": {
     "end_time": "2024-03-24T13:58:46.014669Z",
     "start_time": "2024-03-24T13:58:46.003093Z"
    }
   },
   "source": [
    "**iv.** Print the list of columns. Which column is a target?"
   ]
  },
  {
   "cell_type": "code",
   "execution_count": null,
   "id": "6698ec3e",
   "metadata": {},
   "outputs": [],
   "source": []
  },
  {
   "cell_type": "markdown",
   "id": "a2965aa4",
   "metadata": {},
   "source": [
    "**v.** Make a fast analysis of the data: use methods info(), describe(), corr(). Explain the results of outputs. Are there any empty columns?"
   ]
  },
  {
   "cell_type": "code",
   "execution_count": null,
   "id": "89c21188",
   "metadata": {},
   "outputs": [],
   "source": []
  },
  {
   "cell_type": "markdown",
   "id": "792eee7b",
   "metadata": {
    "ExecuteTime": {
     "end_time": "2024-03-24T13:59:34.109481Z",
     "start_time": "2024-03-24T13:59:34.100725Z"
    }
   },
   "source": [
    "**vi.** We’ll work only with 3 features: 'bathrooms', 'bedrooms', 'interest_level' and with target column ‘price’. Make a dataframe with these columns only."
   ]
  },
  {
   "cell_type": "code",
   "execution_count": null,
   "id": "7d041349",
   "metadata": {},
   "outputs": [],
   "source": []
  },
  {
   "cell_type": "markdown",
   "id": "b7999c2d",
   "metadata": {},
   "source": [
    "# Statistical data analysis"
   ]
  },
  {
   "cell_type": "markdown",
   "id": "5376c6a0",
   "metadata": {},
   "source": [
    "**i.** To start with statistical data analysis we recommend you refresh basic knowledge of statistics, such as Mean / Median / Mode / Variance / Standard Deviation. Also you are welcome to be free with distributions (Discrete uniform Distribution, Bernoulli Distribution, Binomial Distribution, Poisson Distribution, Normal Distribution, Exponential Distribution). Please make sure that you know the definitions of outliers, percentiles, confidential intervals."
   ]
  },
  {
   "cell_type": "markdown",
   "id": "5c2d284d",
   "metadata": {
    "ExecuteTime": {
     "end_time": "2024-03-24T14:09:35.765057Z",
     "start_time": "2024-03-24T14:09:35.747319Z"
    }
   },
   "source": [
    "**ii.** Make a quick sense with this article. Please take attention to such aspects as distributions and histograms, boxplot, outliers, kernel density function."
   ]
  },
  {
   "cell_type": "markdown",
   "id": "7ba277c4",
   "metadata": {},
   "source": [
    "**iii.** Target analysis"
   ]
  },
  {
   "cell_type": "markdown",
   "id": "c74c4b61",
   "metadata": {},
   "source": [
    "**a.** Plot a histogram to understand the distribution of the target. Is it all clear?"
   ]
  },
  {
   "cell_type": "code",
   "execution_count": null,
   "id": "018ea161",
   "metadata": {},
   "outputs": [],
   "source": []
  },
  {
   "cell_type": "markdown",
   "id": "bb6371a6",
   "metadata": {},
   "source": [
    "**b.** The next step is boxplot(). What can you say about target? Are there any outliers?"
   ]
  },
  {
   "cell_type": "code",
   "execution_count": null,
   "id": "17e74234",
   "metadata": {},
   "outputs": [],
   "source": []
  },
  {
   "cell_type": "markdown",
   "id": "1d060e76",
   "metadata": {},
   "source": [
    "**c.** Drop rows which are out of the 1 and 99 percentile by the target column."
   ]
  },
  {
   "cell_type": "code",
   "execution_count": null,
   "id": "7a5c68d2",
   "metadata": {},
   "outputs": [],
   "source": []
  },
  {
   "cell_type": "markdown",
   "id": "73992a00",
   "metadata": {},
   "source": [
    "**d.** Plot a histogram for price again. Explain the result."
   ]
  },
  {
   "cell_type": "code",
   "execution_count": null,
   "id": "da9162f7",
   "metadata": {},
   "outputs": [],
   "source": []
  }
 ],
 "metadata": {
  "kernelspec": {
   "display_name": "Python 3 (ipykernel)",
   "language": "python",
   "name": "python3"
  },
  "language_info": {
   "codemirror_mode": {
    "name": "ipython",
    "version": 3
   },
   "file_extension": ".py",
   "mimetype": "text/x-python",
   "name": "python",
   "nbconvert_exporter": "python",
   "pygments_lexer": "ipython3",
   "version": "3.9.12"
  },
  "toc": {
   "base_numbering": 1,
   "nav_menu": {},
   "number_sections": true,
   "sideBar": true,
   "skip_h1_title": false,
   "title_cell": "Table of Contents",
   "title_sidebar": "Contents",
   "toc_cell": false,
   "toc_position": {},
   "toc_section_display": true,
   "toc_window_display": false
  }
 },
 "nbformat": 4,
 "nbformat_minor": 5
}
